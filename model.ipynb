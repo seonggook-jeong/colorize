{
 "cells": [
  {
   "cell_type": "code",
   "execution_count": 1,
   "metadata": {
    "ExecuteTime": {
     "end_time": "2020-04-18T07:23:32.098364Z",
     "start_time": "2020-04-18T07:23:32.088363Z"
    }
   },
   "outputs": [],
   "source": [
    "import tensorflow as tf\n",
    "# physical_devices = tf.config.experimental.list_physical_devices('GPU')\n",
    "# tf.config.experimental.set_memory_growth(physical_devices[0], True)\n",
    "\n",
    "from tensorflow.keras.layers import Conv2D, UpSampling2D, InputLayer, Conv2DTranspose, MaxPooling2D, BatchNormalization\n",
    "from tensorflow.keras.layers import Activation, Dense, Dropout, Flatten, Conv1D, ZeroPadding1D, ZeroPadding2D\n",
    "from tensorflow.keras.layers import LayerNormalization\n",
    "#from keras.layers.normalization import BatchNormalization\n",
    "from tensorflow.keras.models import Sequential\n",
    "from tensorflow.keras.preprocessing.image import ImageDataGenerator, array_to_img, img_to_array, load_img\n",
    "from skimage.color import rgb2lab, lab2rgb, rgb2gray, xyz2lab\n",
    "from skimage.io import imsave\n",
    "from sklearn.model_selection import train_test_split\n",
    "from tensorflow.keras.applications.inception_resnet_v2 import preprocess_input\n",
    "from sklearn.model_selection import train_test_split\n",
    "#from tensorflow_addons.layers.normalizations import InstanceNormalization\n",
    "import numpy as np\n",
    "import os\n",
    "import random\n",
    "import matplotlib.pyplot as plt"
   ]
  },
  {
   "cell_type": "code",
   "execution_count": 2,
   "metadata": {
    "ExecuteTime": {
     "end_time": "2020-04-16T01:55:48.518708Z",
     "start_time": "2020-04-16T01:55:40.145464Z"
    }
   },
   "outputs": [],
   "source": [
    "datagen = ImageDataGenerator(\n",
    "        rotation_range=40,\n",
    "        width_shift_range=0.2,\n",
    "        height_shift_range=0.2,\n",
    "        shear_range=0.2,\n",
    "        zoom_range=0.2,\n",
    "        horizontal_flip=True,\n",
    "        fill_mode='nearest')\n",
    "c_list=os.listdir('./imgs')\n",
    "for k in c_list:\n",
    "    img = load_img('./imgs/'+k) \n",
    "    x = img_to_array(img) \n",
    "    x = x.reshape((1,) + x.shape) \n",
    "\n",
    "    i = 0\n",
    "    for batch in datagen.flow(x, batch_size=1,\n",
    "                              save_to_dir='gen_img', save_prefix='re', save_format='jpg'):\n",
    "        i += 1\n",
    "        if i > 20:\n",
    "            break"
   ]
  },
  {
   "cell_type": "markdown",
   "metadata": {},
   "source": [
    "k=cv2.imread(path+'/'+file_list[0])\n",
    "\n",
    "k.shape\n",
    "\n",
    "\n",
    "\n",
    "k=k[:400,130:530,:]\n",
    "\n",
    "k=cv2.resize(k, dsize=(400, 400), interpolation=cv2.INTER_AREA)\n",
    "\n",
    "plt.imshow(k)\n",
    "\n",
    "k.shape\n",
    "\n",
    "cv2.imwrite('img0.png', k)\n",
    "\n"
   ]
  },
  {
   "cell_type": "code",
   "execution_count": 3,
   "metadata": {
    "ExecuteTime": {
     "end_time": "2020-04-18T07:25:13.798175Z",
     "start_time": "2020-04-18T07:25:11.797486Z"
    }
   },
   "outputs": [],
   "source": [
    "path = \"./images/color\"\n",
    "file_list = os.listdir(path)\n",
    "images=[]\n",
    "for file in file_list:\n",
    "    image = img_to_array(load_img(path+'/'+file))\n",
    "    image = np.array(image, dtype=float)\n",
    "    images.append(image)\n",
    "images=np.array(images)"
   ]
  },
  {
   "cell_type": "code",
   "execution_count": 4,
   "metadata": {
    "ExecuteTime": {
     "end_time": "2020-04-18T07:25:35.310948Z",
     "start_time": "2020-04-18T07:25:15.815020Z"
    },
    "scrolled": true
   },
   "outputs": [],
   "source": [
    "X = rgb2lab(1.0/255*images)[:,:,:,0]\n",
    "Y = rgb2lab(1.0/255*images)[:,:,:,1:]\n",
    "Y /= 128\n",
    "\n",
    "X=X.reshape(X.shape[0],X.shape[1],X.shape[2],1)"
   ]
  },
  {
   "cell_type": "code",
   "execution_count": 5,
   "metadata": {},
   "outputs": [
    {
     "data": {
      "text/plain": [
       "(994, 150, 150, 3)"
      ]
     },
     "execution_count": 5,
     "metadata": {},
     "output_type": "execute_result"
    }
   ],
   "source": [
    "images.shape"
   ]
  },
  {
   "cell_type": "code",
   "execution_count": 6,
   "metadata": {
    "ExecuteTime": {
     "end_time": "2020-04-18T07:27:26.498477Z",
     "start_time": "2020-04-18T07:27:25.532158Z"
    }
   },
   "outputs": [],
   "source": [
    "X_train, X_test, Y_train, Y_test = train_test_split(X, Y, test_size=0.2)"
   ]
  },
  {
   "cell_type": "code",
   "execution_count": 7,
   "metadata": {
    "ExecuteTime": {
     "end_time": "2020-04-18T07:27:27.468176Z",
     "start_time": "2020-04-18T07:27:27.464176Z"
    }
   },
   "outputs": [
    {
     "name": "stdout",
     "output_type": "stream",
     "text": [
      "(795, 150, 150, 1)\n",
      "(795, 150, 150, 2)\n"
     ]
    }
   ],
   "source": [
    "print(X_train.shape)\n",
    "print(Y_train.shape)"
   ]
  },
  {
   "cell_type": "markdown",
   "metadata": {
    "ExecuteTime": {
     "end_time": "2020-04-17T06:58:08.475021Z",
     "start_time": "2020-04-17T06:58:08.311496Z"
    }
   },
   "source": [
    "model = Sequential()\n",
    "model.add(InputLayer(input_shape=(None, None, 1)))\n",
    "model.add(Conv2D(8, (3, 3), activation='relu', padding='same'))\n",
    "model.add(Conv2D(8, (3, 3), activation='relu', padding='same', strides=2))\n",
    "model.add(Conv2D(16, (3, 3), activation='relu', padding='same'))\n",
    "model.add(Conv2D(16, (3, 3), activation='relu', padding='same', strides=2))\n",
    "model.add(Conv2D(32, (3, 3), activation='relu', padding='same'))\n",
    "model.add(Conv2D(32, (3, 3), activation='relu', padding='same', strides=2))\n",
    "#model.add(Conv2D(128, (3, 3), activation='relu', padding='same'))\n",
    "model.add(Conv2D(128, (3, 3), activation='relu', padding='same', strides=2))\n",
    "#model.add(Conv2D(512, (3, 3), activation='relu', padding='same'))\n",
    "model.add(UpSampling2D((2, 2)))\n",
    "model.add(Conv2D(32, (3, 3), activation='relu', padding='same'))\n",
    "model.add(UpSampling2D((2, 2)))\n",
    "model.add(Conv2D(16, (3, 3), activation='relu', padding='valid'))\n",
    "model.add(UpSampling2D((2, 2)))\n",
    "model.add(Conv2D(8, (3, 3), activation='relu', padding='same'))\n",
    "model.add(UpSampling2D((2, 2)))\n",
    "model.add(Conv2D(2, (3, 3), activation='tanh', padding='valid'))"
   ]
  },
  {
   "cell_type": "code",
   "execution_count": 8,
   "metadata": {
    "ExecuteTime": {
     "end_time": "2020-04-18T07:37:52.601004Z",
     "start_time": "2020-04-18T07:37:51.543185Z"
    }
   },
   "outputs": [
    {
     "name": "stdout",
     "output_type": "stream",
     "text": [
      "WARNING:tensorflow:From /home/lab21/.local/lib/python3.6/site-packages/tensorflow_core/python/ops/resource_variable_ops.py:1630: calling BaseResourceVariable.__init__ (from tensorflow.python.ops.resource_variable_ops) with constraint is deprecated and will be removed in a future version.\n",
      "Instructions for updating:\n",
      "If using Keras pass *_constraint arguments to layers.\n"
     ]
    }
   ],
   "source": [
    "model=Sequential()\n",
    "#Input model\n",
    "model.add(InputLayer(input_shape=(None,None,1)))\n",
    "\n",
    "#conv1-1\n",
    "model.add(Conv2D(64, (3,3)))\n",
    "model.add(ZeroPadding2D(padding=1))\n",
    "model.add(Activation('relu'))\n",
    "#conv1-2\n",
    "model.add(Conv2D(64, (3,3), strides=2))\n",
    "model.add(ZeroPadding2D(padding=1))\n",
    "model.add(Activation('relu'))\n",
    "model.add(BatchNormalization())\n",
    "model.add(Dropout(0.2))\n",
    "\n",
    "#conv2-1\n",
    "model.add(Conv2D(128, (3,3)))\n",
    "model.add(ZeroPadding2D(padding=1))\n",
    "model.add(Activation('relu'))\n",
    "#conv2-2\n",
    "model.add(Conv2D(128, (3,3), strides=2))\n",
    "model.add(ZeroPadding2D(padding=1))\n",
    "model.add(Activation('relu'))\n",
    "model.add(BatchNormalization())\n",
    "model.add(Dropout(0.2))\n",
    "\n",
    "#conv3-1\n",
    "model.add(Conv2D(256, (3,3)))\n",
    "model.add(ZeroPadding2D(padding=1))\n",
    "model.add(Activation('relu'))\n",
    "#conv3-2\n",
    "model.add(Conv2D(256, (3,3)))\n",
    "model.add(ZeroPadding2D(padding=1))\n",
    "model.add(Activation('relu'))\n",
    "#conv3-3\n",
    "model.add(Conv2D(256, (3,3), strides=2))\n",
    "model.add(ZeroPadding2D(padding=1))\n",
    "model.add(Activation('relu'))\n",
    "model.add(BatchNormalization())\n",
    "model.add(Dropout(0.2))\n",
    "\n",
    "#conv4-1\n",
    "model.add(Conv2D(512, (3,3), strides=1, dilation_rate=1))\n",
    "model.add(ZeroPadding2D(padding=1))\n",
    "model.add(Activation('relu'))\n",
    "#conv4-2\n",
    "model.add(Conv2D(512, (3,3), strides=1, dilation_rate=1))\n",
    "model.add(ZeroPadding2D(padding=1))\n",
    "model.add(Activation('relu'))\n",
    "#conv4-3\n",
    "model.add(Conv2D(512, (3,3), strides=1, dilation_rate=1))\n",
    "model.add(ZeroPadding2D(padding=1))\n",
    "model.add(Activation('relu'))\n",
    "model.add(BatchNormalization())\n",
    "model.add(Dropout(0.2))\n",
    "\n",
    "#conv5-1\n",
    "model.add(Conv2D(512, (3,3), strides=1, dilation_rate=2))\n",
    "model.add(ZeroPadding2D(padding=2))\n",
    "model.add(Activation('relu'))\n",
    "#conv5-2\n",
    "model.add(Conv2D(512, (3,3), strides=1, dilation_rate=2))\n",
    "model.add(ZeroPadding2D(padding=2))\n",
    "model.add(Activation('relu'))\n",
    "#conv5-3\n",
    "model.add(Conv2D(512, (3,3), strides=1, dilation_rate=2))\n",
    "model.add(ZeroPadding2D(padding=2))\n",
    "model.add(Activation('relu'))\n",
    "model.add(BatchNormalization())\n",
    "\n",
    "model.add(Dropout(0.2))\n",
    "\n",
    "#conv6-1\n",
    "model.add(Conv2D(512, (3,3), dilation_rate=2))\n",
    "model.add(ZeroPadding2D(padding=2))\n",
    "model.add(Activation('relu'))\n",
    "#conv6-2\n",
    "model.add(Conv2D(512, (3,3), dilation_rate=2))\n",
    "model.add(ZeroPadding2D(padding=2))\n",
    "model.add(Activation('relu'))\n",
    "#conv6-3\n",
    "model.add(Conv2D(512, (3,3), dilation_rate=2))\n",
    "model.add(ZeroPadding2D(padding=1))\n",
    "model.add(Activation('relu'))\n",
    "model.add(BatchNormalization())\n",
    "model.add(Dropout(0.2))\n",
    "\n",
    "#conv7-1\n",
    "model.add(Conv2D(512, (3,3),  dilation_rate=1))\n",
    "model.add(ZeroPadding2D(padding=1))\n",
    "model.add(Activation('relu'))\n",
    "#conv7-2\n",
    "model.add(Conv2D(512, (3,3),  dilation_rate=1))\n",
    "model.add(ZeroPadding2D(padding=1))\n",
    "model.add(Activation('relu'))\n",
    "#conv7-3\n",
    "model.add(Conv2D(512, (3,3),  dilation_rate=1))\n",
    "model.add(ZeroPadding2D(padding=1))\n",
    "model.add(Activation('relu'))\n",
    "model.add(BatchNormalization())\n",
    "model.add(Dropout(0.2))\n",
    "\n",
    "#conv8-1\n",
    "model.add(Conv2D(256, 4, strides=2,  dilation_rate=1))\n",
    "model.add(ZeroPadding2D(padding=1))\n",
    "model.add(Activation('relu'))\n",
    "model.add(UpSampling2D((2, 2)))\n",
    "#conv8-2\n",
    "model.add(Conv2D(256, (3,3),  dilation_rate=1))\n",
    "model.add(ZeroPadding2D(padding=1))\n",
    "model.add(Activation('relu'))\n",
    "model.add(UpSampling2D((2, 2)))\n",
    "#conv8-3\n",
    "model.add(Conv2D(256, (3,3),  dilation_rate=1))\n",
    "model.add(ZeroPadding2D(padding=0))\n",
    "model.add(Activation('relu'))\n",
    "model.add(UpSampling2D((2, 2)))\n",
    "model.add(Dropout(0.2))\n",
    "\n",
    "#softmax\n",
    "model.add(Conv2D(32, 1, strides=1, dilation_rate=1))\n",
    "model.add(BatchNormalization())\n",
    "model.add(Activation('softmax'))\n",
    "model.add(UpSampling2D((2, 2)))\n",
    "#decoding\n",
    "model.add(Conv2D(2, (3,3), activation='tanh'))"
   ]
  },
  {
   "cell_type": "code",
   "execution_count": 9,
   "metadata": {
    "ExecuteTime": {
     "end_time": "2020-04-18T07:37:52.668011Z",
     "start_time": "2020-04-18T07:37:52.656011Z"
    },
    "scrolled": true
   },
   "outputs": [
    {
     "name": "stdout",
     "output_type": "stream",
     "text": [
      "Model: \"sequential\"\n",
      "_________________________________________________________________\n",
      "Layer (type)                 Output Shape              Param #   \n",
      "=================================================================\n",
      "conv2d (Conv2D)              (None, None, None, 64)    640       \n",
      "_________________________________________________________________\n",
      "zero_padding2d (ZeroPadding2 (None, None, None, 64)    0         \n",
      "_________________________________________________________________\n",
      "activation (Activation)      (None, None, None, 64)    0         \n",
      "_________________________________________________________________\n",
      "conv2d_1 (Conv2D)            (None, None, None, 64)    36928     \n",
      "_________________________________________________________________\n",
      "zero_padding2d_1 (ZeroPaddin (None, None, None, 64)    0         \n",
      "_________________________________________________________________\n",
      "activation_1 (Activation)    (None, None, None, 64)    0         \n",
      "_________________________________________________________________\n",
      "batch_normalization (BatchNo (None, None, None, 64)    256       \n",
      "_________________________________________________________________\n",
      "dropout (Dropout)            (None, None, None, 64)    0         \n",
      "_________________________________________________________________\n",
      "conv2d_2 (Conv2D)            (None, None, None, 128)   73856     \n",
      "_________________________________________________________________\n",
      "zero_padding2d_2 (ZeroPaddin (None, None, None, 128)   0         \n",
      "_________________________________________________________________\n",
      "activation_2 (Activation)    (None, None, None, 128)   0         \n",
      "_________________________________________________________________\n",
      "conv2d_3 (Conv2D)            (None, None, None, 128)   147584    \n",
      "_________________________________________________________________\n",
      "zero_padding2d_3 (ZeroPaddin (None, None, None, 128)   0         \n",
      "_________________________________________________________________\n",
      "activation_3 (Activation)    (None, None, None, 128)   0         \n",
      "_________________________________________________________________\n",
      "batch_normalization_1 (Batch (None, None, None, 128)   512       \n",
      "_________________________________________________________________\n",
      "dropout_1 (Dropout)          (None, None, None, 128)   0         \n",
      "_________________________________________________________________\n",
      "conv2d_4 (Conv2D)            (None, None, None, 256)   295168    \n",
      "_________________________________________________________________\n",
      "zero_padding2d_4 (ZeroPaddin (None, None, None, 256)   0         \n",
      "_________________________________________________________________\n",
      "activation_4 (Activation)    (None, None, None, 256)   0         \n",
      "_________________________________________________________________\n",
      "conv2d_5 (Conv2D)            (None, None, None, 256)   590080    \n",
      "_________________________________________________________________\n",
      "zero_padding2d_5 (ZeroPaddin (None, None, None, 256)   0         \n",
      "_________________________________________________________________\n",
      "activation_5 (Activation)    (None, None, None, 256)   0         \n",
      "_________________________________________________________________\n",
      "conv2d_6 (Conv2D)            (None, None, None, 256)   590080    \n",
      "_________________________________________________________________\n",
      "zero_padding2d_6 (ZeroPaddin (None, None, None, 256)   0         \n",
      "_________________________________________________________________\n",
      "activation_6 (Activation)    (None, None, None, 256)   0         \n",
      "_________________________________________________________________\n",
      "batch_normalization_2 (Batch (None, None, None, 256)   1024      \n",
      "_________________________________________________________________\n",
      "dropout_2 (Dropout)          (None, None, None, 256)   0         \n",
      "_________________________________________________________________\n",
      "conv2d_7 (Conv2D)            (None, None, None, 512)   1180160   \n",
      "_________________________________________________________________\n",
      "zero_padding2d_7 (ZeroPaddin (None, None, None, 512)   0         \n",
      "_________________________________________________________________\n",
      "activation_7 (Activation)    (None, None, None, 512)   0         \n",
      "_________________________________________________________________\n",
      "conv2d_8 (Conv2D)            (None, None, None, 512)   2359808   \n",
      "_________________________________________________________________\n",
      "zero_padding2d_8 (ZeroPaddin (None, None, None, 512)   0         \n",
      "_________________________________________________________________\n",
      "activation_8 (Activation)    (None, None, None, 512)   0         \n",
      "_________________________________________________________________\n",
      "conv2d_9 (Conv2D)            (None, None, None, 512)   2359808   \n",
      "_________________________________________________________________\n",
      "zero_padding2d_9 (ZeroPaddin (None, None, None, 512)   0         \n",
      "_________________________________________________________________\n",
      "activation_9 (Activation)    (None, None, None, 512)   0         \n",
      "_________________________________________________________________\n",
      "batch_normalization_3 (Batch (None, None, None, 512)   2048      \n",
      "_________________________________________________________________\n",
      "dropout_3 (Dropout)          (None, None, None, 512)   0         \n",
      "_________________________________________________________________\n",
      "conv2d_10 (Conv2D)           (None, None, None, 512)   2359808   \n",
      "_________________________________________________________________\n",
      "zero_padding2d_10 (ZeroPaddi (None, None, None, 512)   0         \n",
      "_________________________________________________________________\n",
      "activation_10 (Activation)   (None, None, None, 512)   0         \n",
      "_________________________________________________________________\n",
      "conv2d_11 (Conv2D)           (None, None, None, 512)   2359808   \n",
      "_________________________________________________________________\n",
      "zero_padding2d_11 (ZeroPaddi (None, None, None, 512)   0         \n",
      "_________________________________________________________________\n",
      "activation_11 (Activation)   (None, None, None, 512)   0         \n",
      "_________________________________________________________________\n",
      "conv2d_12 (Conv2D)           (None, None, None, 512)   2359808   \n",
      "_________________________________________________________________\n",
      "zero_padding2d_12 (ZeroPaddi (None, None, None, 512)   0         \n",
      "_________________________________________________________________\n",
      "activation_12 (Activation)   (None, None, None, 512)   0         \n",
      "_________________________________________________________________\n",
      "batch_normalization_4 (Batch (None, None, None, 512)   2048      \n",
      "_________________________________________________________________\n",
      "dropout_4 (Dropout)          (None, None, None, 512)   0         \n",
      "_________________________________________________________________\n",
      "conv2d_13 (Conv2D)           (None, None, None, 512)   2359808   \n",
      "_________________________________________________________________\n",
      "zero_padding2d_13 (ZeroPaddi (None, None, None, 512)   0         \n",
      "_________________________________________________________________\n",
      "activation_13 (Activation)   (None, None, None, 512)   0         \n",
      "_________________________________________________________________\n",
      "conv2d_14 (Conv2D)           (None, None, None, 512)   2359808   \n",
      "_________________________________________________________________\n",
      "zero_padding2d_14 (ZeroPaddi (None, None, None, 512)   0         \n",
      "_________________________________________________________________\n",
      "activation_14 (Activation)   (None, None, None, 512)   0         \n",
      "_________________________________________________________________\n",
      "conv2d_15 (Conv2D)           (None, None, None, 512)   2359808   \n",
      "_________________________________________________________________\n",
      "zero_padding2d_15 (ZeroPaddi (None, None, None, 512)   0         \n",
      "_________________________________________________________________\n",
      "activation_15 (Activation)   (None, None, None, 512)   0         \n",
      "_________________________________________________________________\n",
      "batch_normalization_5 (Batch (None, None, None, 512)   2048      \n",
      "_________________________________________________________________\n",
      "dropout_5 (Dropout)          (None, None, None, 512)   0         \n",
      "_________________________________________________________________\n",
      "conv2d_16 (Conv2D)           (None, None, None, 512)   2359808   \n",
      "_________________________________________________________________\n",
      "zero_padding2d_16 (ZeroPaddi (None, None, None, 512)   0         \n",
      "_________________________________________________________________\n",
      "activation_16 (Activation)   (None, None, None, 512)   0         \n",
      "_________________________________________________________________\n",
      "conv2d_17 (Conv2D)           (None, None, None, 512)   2359808   \n",
      "_________________________________________________________________\n",
      "zero_padding2d_17 (ZeroPaddi (None, None, None, 512)   0         \n",
      "_________________________________________________________________\n",
      "activation_17 (Activation)   (None, None, None, 512)   0         \n",
      "_________________________________________________________________\n",
      "conv2d_18 (Conv2D)           (None, None, None, 512)   2359808   \n",
      "_________________________________________________________________\n",
      "zero_padding2d_18 (ZeroPaddi (None, None, None, 512)   0         \n",
      "_________________________________________________________________\n",
      "activation_18 (Activation)   (None, None, None, 512)   0         \n",
      "_________________________________________________________________\n",
      "batch_normalization_6 (Batch (None, None, None, 512)   2048      \n",
      "_________________________________________________________________\n",
      "dropout_6 (Dropout)          (None, None, None, 512)   0         \n",
      "_________________________________________________________________\n",
      "conv2d_19 (Conv2D)           (None, None, None, 256)   2097408   \n",
      "_________________________________________________________________\n",
      "zero_padding2d_19 (ZeroPaddi (None, None, None, 256)   0         \n",
      "_________________________________________________________________\n",
      "activation_19 (Activation)   (None, None, None, 256)   0         \n",
      "_________________________________________________________________\n",
      "up_sampling2d (UpSampling2D) (None, None, None, 256)   0         \n",
      "_________________________________________________________________\n",
      "conv2d_20 (Conv2D)           (None, None, None, 256)   590080    \n",
      "_________________________________________________________________\n",
      "zero_padding2d_20 (ZeroPaddi (None, None, None, 256)   0         \n",
      "_________________________________________________________________\n",
      "activation_20 (Activation)   (None, None, None, 256)   0         \n",
      "_________________________________________________________________\n",
      "up_sampling2d_1 (UpSampling2 (None, None, None, 256)   0         \n",
      "_________________________________________________________________\n",
      "conv2d_21 (Conv2D)           (None, None, None, 256)   590080    \n",
      "_________________________________________________________________\n",
      "zero_padding2d_21 (ZeroPaddi (None, None, None, 256)   0         \n",
      "_________________________________________________________________\n",
      "activation_21 (Activation)   (None, None, None, 256)   0         \n",
      "_________________________________________________________________\n",
      "up_sampling2d_2 (UpSampling2 (None, None, None, 256)   0         \n",
      "_________________________________________________________________\n",
      "dropout_7 (Dropout)          (None, None, None, 256)   0         \n",
      "_________________________________________________________________\n",
      "conv2d_22 (Conv2D)           (None, None, None, 32)    8224      \n",
      "_________________________________________________________________\n",
      "batch_normalization_7 (Batch (None, None, None, 32)    128       \n",
      "_________________________________________________________________\n",
      "activation_22 (Activation)   (None, None, None, 32)    0         \n",
      "_________________________________________________________________\n",
      "up_sampling2d_3 (UpSampling2 (None, None, None, 32)    0         \n",
      "_________________________________________________________________\n",
      "conv2d_23 (Conv2D)           (None, None, None, 2)     578       \n",
      "=================================================================\n",
      "Total params: 32,168,866\n",
      "Trainable params: 32,163,810\n",
      "Non-trainable params: 5,056\n",
      "_________________________________________________________________\n"
     ]
    }
   ],
   "source": [
    "model.summary()"
   ]
  },
  {
   "cell_type": "code",
   "execution_count": 10,
   "metadata": {
    "ExecuteTime": {
     "end_time": "2020-04-18T07:37:53.590184Z",
     "start_time": "2020-04-18T07:37:53.548911Z"
    }
   },
   "outputs": [],
   "source": [
    "# Finish model\n",
    "model.compile(optimizer='rmsprop',loss='mse', metrics=['accuracy'])"
   ]
  },
  {
   "cell_type": "code",
   "execution_count": 11,
   "metadata": {},
   "outputs": [
    {
     "name": "stdout",
     "output_type": "stream",
     "text": [
      "WARNING:tensorflow:OMP_NUM_THREADS is no longer used by the default Keras config. To configure the number of threads, use tf.config.threading APIs.\n"
     ]
    }
   ],
   "source": [
    "model.load_weights('my_model_weights_1.h5')"
   ]
  },
  {
   "cell_type": "code",
   "execution_count": null,
   "metadata": {
    "ExecuteTime": {
     "start_time": "2020-04-18T07:50:58.375Z"
    }
   },
   "outputs": [
    {
     "name": "stdout",
     "output_type": "stream",
     "text": [
      "Train on 795 samples, validate on 199 samples\n",
      "Epoch 1/4000\n",
      "690/795 [=========================>....] - ETA: 4s - loss: 0.0011 - acc: 0.8179"
     ]
    }
   ],
   "source": [
    "history=model.fit(x=X_train, \n",
    "    y=Y_train,\n",
    "    batch_size=2,\n",
    "    epochs=4000,validation_data=(X_test,Y_test))"
   ]
  },
  {
   "cell_type": "markdown",
   "metadata": {},
   "source": [
    "path = \"./imgs\"\n",
    "file_list = os.listdir(path)\n",
    "file_list"
   ]
  },
  {
   "cell_type": "code",
   "execution_count": null,
   "metadata": {},
   "outputs": [],
   "source": [
    "model.save_weights('my_model_weights_1.h5')"
   ]
  },
  {
   "cell_type": "code",
   "execution_count": null,
   "metadata": {
    "ExecuteTime": {
     "end_time": "2020-04-18T07:12:16.716680Z",
     "start_time": "2020-04-18T07:12:16.450790Z"
    }
   },
   "outputs": [],
   "source": [
    "plt.figure(figsize=(5,5))\n",
    "    \n",
    "plt.plot(history.history['accuracy'])\n",
    "plt.ylabel('accuracy')\n",
    "plt.xlabel('epoch')\n",
    "plt.plot(history.history['val_accuracy'])\n",
    "plt.plot(history.history['loss'])\n",
    "plt.plot(history.history['val_loss'])"
   ]
  },
  {
   "cell_type": "code",
   "execution_count": null,
   "metadata": {
    "ExecuteTime": {
     "end_time": "2020-04-18T07:12:28.299690Z",
     "start_time": "2020-04-18T07:12:20.039073Z"
    }
   },
   "outputs": [],
   "source": [
    "print(model.evaluate(X,Y, batch_size=1))\n",
    "output = model.predict(X_test)\n",
    "output *= 128 \n",
    "# Output colorizations"
   ]
  },
  {
   "cell_type": "code",
   "execution_count": null,
   "metadata": {
    "ExecuteTime": {
     "end_time": "2020-04-18T07:12:48.273959Z",
     "start_time": "2020-04-18T07:12:30.358020Z"
    },
    "scrolled": true
   },
   "outputs": [],
   "source": [
    "for x in range(10):\n",
    "    cur = np.zeros((150,150, 3))\n",
    "    \n",
    "    cur[:,:,0] = X_test[x][:,:,0]\n",
    "    cur[:,:,1:] = output[x,:,:,:]\n",
    "    plt.imshow(lab2rgb(cur))\n",
    "    plt.axis('off')\n",
    "    plt.show()"
   ]
  },
  {
   "cell_type": "code",
   "execution_count": null,
   "metadata": {
    "ExecuteTime": {
     "end_time": "2020-04-18T02:22:01.919614Z",
     "start_time": "2020-04-18T02:21:54.869872Z"
    },
    "scrolled": true
   },
   "outputs": [],
   "source": [
    "for x in range(1,20):\n",
    "    image = img_to_array(load_img('./images/color/color ('+str(x+340)+').jpg'))\n",
    "    image = np.array(image, dtype=float)\n",
    "\n",
    "    X_img = rgb2lab(1.0/255*image)[:,:,0]\n",
    "    Y_img = rgb2lab(1.0/255*image)[:,:,1:]\n",
    "    Y_img /= 128\n",
    "    X_img = X_img.reshape(1, 150, 150, 1)\n",
    "    Y_img = Y_img.reshape(1, 150, 150, 2)\n",
    "\n",
    "    output = model.predict(X_img)\n",
    "    output *= 128\n",
    "    # Output colorizations\n",
    "    cur = np.zeros((image.shape[0], image.shape[1], 3))\n",
    "    cur[:,:,0] = X_img[0][:,:,0]\n",
    "    cur[:,:,1:] = output[0]\n",
    "    plt.figure(figsize=(20,20))\n",
    "    plt.imshow(np.hstack((image/255,lab2rgb(cur))))\n",
    "    plt.axis('off')\n",
    "    plt.show()"
   ]
  },
  {
   "cell_type": "code",
   "execution_count": null,
   "metadata": {
    "ExecuteTime": {
     "end_time": "2020-04-18T02:18:41.001615Z",
     "start_time": "2020-04-18T02:18:40.877608Z"
    }
   },
   "outputs": [],
   "source": [
    "img=img_to_array(load_img('gray.jpg'))\n",
    "img = np.array(img, dtype=float)\n",
    "X_img = rgb2lab(1.0/255*img)[:,:,0]\n",
    "X_img = X_img.reshape(1, 150, 150, 1)\n",
    "output = model.predict(X_img)\n",
    "output *= 128\n",
    "cur = np.zeros((150, 150, 3))\n",
    "cur[:,:,0] = X_img[0][:,:,0]\n",
    "cur[:,:,1:] = output[0]\n",
    "plt.imshow(lab2rgb(cur))\n",
    "plt.axis('off')\n",
    "plt.show()"
   ]
  },
  {
   "cell_type": "code",
   "execution_count": null,
   "metadata": {
    "ExecuteTime": {
     "end_time": "2020-04-18T02:18:47.911296Z",
     "start_time": "2020-04-18T02:18:43.735733Z"
    },
    "scrolled": true
   },
   "outputs": [],
   "source": [
    "for x in range(1,58):\n",
    "    image = img_to_array(load_img('./images/gray/gray ('+str(x)+').jpg'))\n",
    "    image = np.array(image, dtype=float)\n",
    "\n",
    "    X_img = rgb2lab(1.0/255*image)[:,:,0]\n",
    "    Y_img = rgb2lab(1.0/255*image)[:,:,1:]\n",
    "    Y_img /= 128\n",
    "    X_img = X_img.reshape(1, 150, 150, 1)\n",
    "    Y_img = Y_img.reshape(1, 150, 150, 2)\n",
    "\n",
    "    output = model.predict(X_img)\n",
    "    output *= 128\n",
    "    # Output colorizations\n",
    "    cur = np.zeros((image.shape[0], image.shape[1], 3))\n",
    "    cur[:,:,0] = X_img[0][:,:,0]\n",
    "    cur[:,:,1:] = output[0]\n",
    "    plt.imshow(np.hstack((image/255,lab2rgb(cur))))\n",
    "    plt.axis('off')\n",
    "    plt.show()"
   ]
  },
  {
   "cell_type": "code",
   "execution_count": null,
   "metadata": {
    "ExecuteTime": {
     "end_time": "2020-04-18T02:44:17.845383Z",
     "start_time": "2020-04-18T02:44:17.001201Z"
    }
   },
   "outputs": [],
   "source": [
    "model.save('0418_12.h5')"
   ]
  },
  {
   "cell_type": "code",
   "execution_count": null,
   "metadata": {},
   "outputs": [],
   "source": []
  }
 ],
 "metadata": {
  "kernelspec": {
   "display_name": "Python [conda env:tensorflow_p36] *",
   "language": "python",
   "name": "conda-env-tensorflow_p36-py"
  },
  "language_info": {
   "codemirror_mode": {
    "name": "ipython",
    "version": 3
   },
   "file_extension": ".py",
   "mimetype": "text/x-python",
   "name": "python",
   "nbconvert_exporter": "python",
   "pygments_lexer": "ipython3",
   "version": "3.6.5"
  },
  "varInspector": {
   "cols": {
    "lenName": 16,
    "lenType": 16,
    "lenVar": 40
   },
   "kernels_config": {
    "python": {
     "delete_cmd_postfix": "",
     "delete_cmd_prefix": "del ",
     "library": "var_list.py",
     "varRefreshCmd": "print(var_dic_list())"
    },
    "r": {
     "delete_cmd_postfix": ") ",
     "delete_cmd_prefix": "rm(",
     "library": "var_list.r",
     "varRefreshCmd": "cat(var_dic_list()) "
    }
   },
   "position": {
    "height": "616px",
    "left": "560px",
    "right": "20px",
    "top": "142px",
    "width": "350px"
   },
   "types_to_exclude": [
    "module",
    "function",
    "builtin_function_or_method",
    "instance",
    "_Feature"
   ],
   "window_display": false
  }
 },
 "nbformat": 4,
 "nbformat_minor": 4
}
